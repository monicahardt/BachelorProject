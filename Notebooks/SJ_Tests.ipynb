{
 "cells": [
  {
   "cell_type": "markdown",
   "metadata": {},
   "source": [
    "# Findings\n",
    "\n",
    "Plans:\n",
    "- Test for amount of journeys in cph\n",
    "- Test for avg of zone-travesal \n",
    "- Test for time-specific travels\n",
    "- Test for station/stop representations\n",
    "- Test for avg travel time\n",
    "- \n",
    "\n",
    "\n",
    "- $20\\%$ of journeys in SJWaypoints are within cph. \n",
    "- The average amount of validInternalZones is $13.21$. This is what we expected due to the ticketing system requirement of journeys traversing more than 8 zones must buy a (non-zone) ticket\n",
    "\n"
   ]
  },
  {
   "cell_type": "code",
   "execution_count": 15,
   "metadata": {},
   "outputs": [
    {
     "data": {
      "text/plain": [
       "CreatedOn             35948\n",
       "SearchStart           35948\n",
       "SearchEnd             35948\n",
       "StartStop             35948\n",
       "EndStop               35948\n",
       "StartZone             35948\n",
       "Endzone               35948\n",
       "internalStartZones    35948\n",
       "internalValidZones    35948\n",
       "SJId                  35948\n",
       "Id                    35948\n",
       "Name                  35948\n",
       "Latitude              35948\n",
       "Longitude             35948\n",
       "Type                  35948\n",
       "SJSearchJourney_Id    35948\n",
       "dtype: int64"
      ]
     },
     "execution_count": 15,
     "metadata": {},
     "output_type": "execute_result"
    }
   ],
   "source": [
    "import pandas as pd\n",
    "import numpy as np\n",
    "data = pd.read_csv('../Data/JTOSJW_dec_jan_2022.csv')\n",
    "data.groupby('JId').agg(list).count()"
   ]
  },
  {
   "cell_type": "code",
   "execution_count": 6,
   "metadata": {},
   "outputs": [],
   "source": [
    "#Copenhagen filtering\n",
    "condition_1_cph = (\n",
    "    (data['internalValidZones'].str.match(r'^(1001|1002|1003|1004)(,(1001|1002|1003|1004))*$')\n",
    "    | # or\n",
    "    pd.isna(data['internalValidZones']))\n",
    "    )\n",
    "\n",
    "condition_2_cph = (\n",
    "    (data['internalStartZones'].str.match(r'^(1001|1002|1003|1004)$'))\n",
    "    | # or\n",
    "    pd.isna(data['internalStartZones'])\n",
    "    )"
   ]
  },
  {
   "cell_type": "code",
   "execution_count": 7,
   "metadata": {},
   "outputs": [
    {
     "name": "stderr",
     "output_type": "stream",
     "text": [
      "/var/folders/6c/gl4j6k8x3tn79jcjxtk_ly1h0000gn/T/ipykernel_45468/4143612775.py:2: UserWarning: Boolean Series key will be reindexed to match DataFrame index.\n",
      "  data = data[(condition_2_cph)]\n"
     ]
    },
    {
     "data": {
      "text/plain": [
       "CreatedOn             7790\n",
       "SearchStart           7790\n",
       "SearchEnd             7790\n",
       "StartStop             7790\n",
       "EndStop               7790\n",
       "StartZone             7790\n",
       "Endzone               7790\n",
       "internalStartZones    7790\n",
       "internalValidZones    7790\n",
       "SJId                  7790\n",
       "Id                    7790\n",
       "Name                  7790\n",
       "Latitude              7790\n",
       "Longitude             7790\n",
       "Type                  7790\n",
       "SJSearchJourney_Id    7790\n",
       "dtype: int64"
      ]
     },
     "execution_count": 7,
     "metadata": {},
     "output_type": "execute_result"
    }
   ],
   "source": [
    "data = data[(condition_1_cph)]\n",
    "data = data[(condition_2_cph)]\n",
    "data.groupby('JId').agg(list).count()"
   ]
  },
  {
   "cell_type": "code",
   "execution_count": 32,
   "metadata": {},
   "outputs": [
    {
     "data": {
      "text/plain": [
       "13.21044286191165"
      ]
     },
     "execution_count": 32,
     "metadata": {},
     "output_type": "execute_result"
    }
   ],
   "source": [
    "# Step 1: Group by 'JId' and aggregate 'internalValidZones' as a list\n",
    "grouped_data = data.groupby('JId')['internalValidZones'].agg(list)\n",
    "avg = 0\n",
    "\n",
    "for SJ_zone in grouped_data:\n",
    "    avg += len(SJ_zone[0].split(','))\n",
    "\n",
    "avg / grouped_data.count()\n",
    "\n"
   ]
  },
  {
   "cell_type": "code",
   "execution_count": null,
   "metadata": {},
   "outputs": [],
   "source": [
    "station_counts = data['station_name_column'].value_counts()\n"
   ]
  },
  {
   "cell_type": "code",
   "execution_count": null,
   "metadata": {},
   "outputs": [],
   "source": []
  }
 ],
 "metadata": {
  "kernelspec": {
   "display_name": "Python 3",
   "language": "python",
   "name": "python3"
  },
  "language_info": {
   "codemirror_mode": {
    "name": "ipython",
    "version": 3
   },
   "file_extension": ".py",
   "mimetype": "text/x-python",
   "name": "python",
   "nbconvert_exporter": "python",
   "pygments_lexer": "ipython3",
   "version": "3.11.5"
  }
 },
 "nbformat": 4,
 "nbformat_minor": 2
}
