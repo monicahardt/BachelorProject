{
 "cells": [
  {
   "cell_type": "code",
   "execution_count": 6,
   "metadata": {},
   "outputs": [],
   "source": [
    "import csv\n",
    "import plotly.graph_objects as go\n",
    "import plotly.io as pio\n",
    "import emblaze\n",
    "from gensim.models import Word2Vec\n",
    "import numpy as np\n",
    "import csv\n",
    "from gensim.models import Word2Vec\n",
    "from sklearn.manifold import TSNE\n",
    "import numpy as np\n",
    "import matplotlib.pyplot as plt\n",
    "from sklearn.preprocessing import LabelEncoder\n",
    "import pacmap\n",
    "import json\n",
    "from collections import defaultdict\n",
    "import re\n",
    "import emblaze\n",
    "from emblaze.utils import Field, ProjectionTechnique"
   ]
  },
  {
   "cell_type": "code",
   "execution_count": 10,
   "metadata": {},
   "outputs": [],
   "source": [
    "model_5000 = Word2Vec.load(\"../Data/Models/word2vec_epoch_5000.model\")\n",
    "#model_200 = Word2Vec.load(\"../Data/Models/word2vec_epoch_200_min_1.model\")\n",
    "model_1000 = Word2Vec.load(\"../Data/Models/word2vec_epoch_1000_min_1.model\")\n",
    "#model_3000 = Word2Vec.load(\"../Data/Models/word2vec_epoch_3000_min_1.model\")\n",
    "\n"
   ]
  },
  {
   "cell_type": "code",
   "execution_count": 2,
   "metadata": {},
   "outputs": [
    {
     "name": "stdout",
     "output_type": "stream",
     "text": [
      "WARNING: Reducing the number of nearest neighbors passed to the widget to 50 to save space. You can control this by setting the storedNumNeighbors property of the widget when initializing.\n"
     ]
    },
    {
     "data": {
      "application/vnd.jupyter.widget-view+json": {
       "model_id": "a2f3291a00754eee875869daeca62307",
       "version_major": 2,
       "version_minor": 0
      },
      "text/plain": [
       "Viewer(colorScheme='tableau', data={'data': [{'_format': 'compressed', '_idtype': 'u2', '_length': 40581, 'ids…"
      ]
     },
     "execution_count": 2,
     "metadata": {},
     "output_type": "execute_result"
    }
   ],
   "source": [
    "\n",
    "with open('../Data/sequences.csv', 'r') as f:\n",
    "    reader = csv.reader(f)\n",
    "    sequences = list(reader)\n",
    "    \n",
    "address_count_seq = {}\n",
    "for seq in sequences:\n",
    "    for place in seq:\n",
    "        if place in address_count_seq:\n",
    "            address_count_seq[place] += 1\n",
    "        else:\n",
    "            address_count_seq[place] = 1\n",
    "\n",
    "address_count_seq\n",
    "\n",
    "def label_function_address_count(labels, station_names): \n",
    "    for station_name in station_names:\n",
    "            # Check if the station_name exists in address_coordinates dictionary\n",
    "            if station_name in address_count_seq:\n",
    "                if address_count_seq[station_name] == 1:\n",
    "                    labels.append(address_count_seq[station_name])\n",
    "                else: \n",
    "                 labels.append(\"\")\n",
    "            #     labels.append(address_count_seq[station_name])\n",
    "            # else: \n",
    "            #     labels.append(\"\")\n",
    "    return labels\n",
    "\n",
    "labels = label_function_address_count([], model_1000.wv.index_to_key)\n",
    "# Convert labels to numerical format\n",
    "label_encoder = LabelEncoder()\n",
    "label_encoder.fit(labels)\n",
    "numeric_labels = label_encoder.transform(labels)\n",
    "\n",
    "# X is an n x k array, Y is a length-n array\n",
    "X, Y = model_1000.wv.vectors, labels\n",
    "\n",
    "# Represent the high-dimensional embedding\n",
    "emb = emblaze.Embedding({Field.POSITION: X, Field.COLOR: Y})\n",
    "# Compute nearest neighbors in the high-D space (for display)\n",
    "emb.compute_neighbors(metric='cosine')\n",
    "\n",
    "# Generate UMAP 2D representations - you can pass UMAP parameters to project()\n",
    "variants = emblaze.EmbeddingSet([\n",
    "    emb.project(method=ProjectionTechnique.UMAP) for _ in range(10)\n",
    "])\n",
    "# Compute neighbors again (to indicate that we want to compare projections)\n",
    "variants.compute_neighbors(metric='euclidean')\n",
    "\n",
    "w = emblaze.Viewer(embeddings=variants)\n",
    "w"
   ]
  },
  {
   "cell_type": "code",
   "execution_count": 8,
   "metadata": {},
   "outputs": [],
   "source": [
    "import json\n",
    "f = open('../Data/data.json')\n",
    "data = json.load(f)\n",
    "\n",
    "a = open('../Data/added_data.json')\n",
    "added_data = json.load(a)"
   ]
  },
  {
   "cell_type": "code",
   "execution_count": 14,
   "metadata": {},
   "outputs": [
    {
     "ename": "AttributeError",
     "evalue": "type object 'ProjectionTechnique' has no attribute 'tSNE'",
     "output_type": "error",
     "traceback": [
      "\u001b[0;31m---------------------------------------------------------------------------\u001b[0m",
      "\u001b[0;31mAttributeError\u001b[0m                            Traceback (most recent call last)",
      "Cell \u001b[0;32mIn[14], line 66\u001b[0m\n\u001b[1;32m     63\u001b[0m emb\u001b[38;5;241m.\u001b[39mcompute_neighbors(metric\u001b[38;5;241m=\u001b[39m\u001b[38;5;124m'\u001b[39m\u001b[38;5;124mcosine\u001b[39m\u001b[38;5;124m'\u001b[39m)\n\u001b[1;32m     65\u001b[0m \u001b[38;5;66;03m# Generate UMAP 2D representations - you can pass UMAP parameters to project()\u001b[39;00m\n\u001b[0;32m---> 66\u001b[0m variants \u001b[38;5;241m=\u001b[39m emblaze\u001b[38;5;241m.\u001b[39mEmbeddingSet(\u001b[43m[\u001b[49m\n\u001b[1;32m     67\u001b[0m \u001b[43m    \u001b[49m\u001b[43memb\u001b[49m\u001b[38;5;241;43m.\u001b[39;49m\u001b[43mproject\u001b[49m\u001b[43m(\u001b[49m\u001b[43mmethod\u001b[49m\u001b[38;5;241;43m=\u001b[39;49m\u001b[43mProjectionTechnique\u001b[49m\u001b[38;5;241;43m.\u001b[39;49m\u001b[43mtSNE\u001b[49m\u001b[43m)\u001b[49m\u001b[43m \u001b[49m\u001b[38;5;28;43;01mfor\u001b[39;49;00m\u001b[43m \u001b[49m\u001b[43m_\u001b[49m\u001b[43m \u001b[49m\u001b[38;5;129;43;01min\u001b[39;49;00m\u001b[43m \u001b[49m\u001b[38;5;28;43mrange\u001b[39;49m\u001b[43m(\u001b[49m\u001b[38;5;241;43m10\u001b[39;49m\u001b[43m)\u001b[49m\n\u001b[1;32m     68\u001b[0m \u001b[43m]\u001b[49m)\n\u001b[1;32m     69\u001b[0m \u001b[38;5;66;03m# Compute neighbors again (to indicate that we want to compare projections)\u001b[39;00m\n\u001b[1;32m     70\u001b[0m variants\u001b[38;5;241m.\u001b[39mcompute_neighbors(metric\u001b[38;5;241m=\u001b[39m\u001b[38;5;124m'\u001b[39m\u001b[38;5;124meuclidean\u001b[39m\u001b[38;5;124m'\u001b[39m)\n",
      "Cell \u001b[0;32mIn[14], line 67\u001b[0m, in \u001b[0;36m<listcomp>\u001b[0;34m(.0)\u001b[0m\n\u001b[1;32m     63\u001b[0m emb\u001b[38;5;241m.\u001b[39mcompute_neighbors(metric\u001b[38;5;241m=\u001b[39m\u001b[38;5;124m'\u001b[39m\u001b[38;5;124mcosine\u001b[39m\u001b[38;5;124m'\u001b[39m)\n\u001b[1;32m     65\u001b[0m \u001b[38;5;66;03m# Generate UMAP 2D representations - you can pass UMAP parameters to project()\u001b[39;00m\n\u001b[1;32m     66\u001b[0m variants \u001b[38;5;241m=\u001b[39m emblaze\u001b[38;5;241m.\u001b[39mEmbeddingSet([\n\u001b[0;32m---> 67\u001b[0m     emb\u001b[38;5;241m.\u001b[39mproject(method\u001b[38;5;241m=\u001b[39m\u001b[43mProjectionTechnique\u001b[49m\u001b[38;5;241;43m.\u001b[39;49m\u001b[43mtSNE\u001b[49m) \u001b[38;5;28;01mfor\u001b[39;00m _ \u001b[38;5;129;01min\u001b[39;00m \u001b[38;5;28mrange\u001b[39m(\u001b[38;5;241m10\u001b[39m)\n\u001b[1;32m     68\u001b[0m ])\n\u001b[1;32m     69\u001b[0m \u001b[38;5;66;03m# Compute neighbors again (to indicate that we want to compare projections)\u001b[39;00m\n\u001b[1;32m     70\u001b[0m variants\u001b[38;5;241m.\u001b[39mcompute_neighbors(metric\u001b[38;5;241m=\u001b[39m\u001b[38;5;124m'\u001b[39m\u001b[38;5;124meuclidean\u001b[39m\u001b[38;5;124m'\u001b[39m)\n",
      "\u001b[0;31mAttributeError\u001b[0m: type object 'ProjectionTechnique' has no attribute 'tSNE'"
     ]
    }
   ],
   "source": [
    "import re\n",
    "\n",
    "#retrieve zipcode\n",
    "def getZip(info):\n",
    "    pattern = '\\d{4}'\n",
    "    match = re.search(pattern, info)\n",
    "    if match is not None:\n",
    "        return match.group()\n",
    "    else :\n",
    "        return\n",
    "\n",
    "# # Extract zip codes and corresponding coordinates\n",
    "#zip_coordinates = defaultdict(list)\n",
    "address_coordinates = {}\n",
    "wrong_addresses = []\n",
    "# we have some json objects where the address exists but the info is null. This happens in 1602 cases (assume this is where the geolocator failed)\n",
    "for address, info in data.items():\n",
    "    if info is not None: \n",
    "        zip_code = getZip(info['address'])  # Extract zip code from address could be empty\n",
    "        if zip_code is not None:\n",
    "            if 1000 <= int(zip_code) < 4999: #for now removing all failed zipcodes in Jylland\n",
    "                 #zip_coordinates[zip_code].append((address,info[\"latitude\"], info[\"longitude\"]))\n",
    "                 address_coordinates[address] = zip_code\n",
    "            else: \n",
    "                wrong_addresses.append(address) #go through later\n",
    "        else:\n",
    "            address_coordinates[address] = 0000 #no zipcode was found\n",
    "    else:\n",
    "        address_coordinates[address] = 0000 #no info was found on the address?\n",
    "\n",
    "#run through the list of wrong addresses and try to find them in the added_data.json file to get the \"correct\" zipcode\n",
    "for address in wrong_addresses:\n",
    "    #find in json file\n",
    "    if address in added_data:\n",
    "        zip = getZip(added_data[address]['address'])\n",
    "        address_coordinates[address] = zip\n",
    "\n",
    "def label_function_zipcodes(labels, station_names): \n",
    "    for station_name in station_names:\n",
    "    # Check if the station_name exists in address_coordinates dictionary\n",
    "        if station_name in address_coordinates:\n",
    "            zip = address_coordinates[station_name]\n",
    "            if zip is not None:\n",
    "                labels.append(zip)\n",
    "            else: \n",
    "                labels.append(\"unknown\")\n",
    "        else:\n",
    "            labels.append(\"unknown\")\n",
    "    return labels\n",
    "\n",
    "labels = label_function_zipcodes([], model_5000.wv.index_to_key)\n",
    "# Convert labels to numerical format\n",
    "label_encoder = LabelEncoder()\n",
    "label_encoder.fit(labels)\n",
    "numeric_labels = label_encoder.transform(labels)\n",
    "\n",
    "# X is an n x k array, Y is a length-n array\n",
    "X, Y = model_5000.wv.vectors, labels\n",
    "\n",
    "# Represent the high-dimensional embedding\n",
    "emb = emblaze.Embedding({Field.POSITION: X, Field.COLOR: Y})\n",
    "# Compute nearest neighbors in the high-D space (for display)\n",
    "emb.compute_neighbors(metric='cosine')\n",
    "\n",
    "# Generate UMAP 2D representations - you can pass UMAP parameters to project()\n",
    "variants = emblaze.EmbeddingSet([\n",
    "    emb.project(method=ProjectionTechnique.tSNE) for _ in range(10)\n",
    "])\n",
    "# Compute neighbors again (to indicate that we want to compare projections)\n",
    "variants.compute_neighbors(metric='euclidean')\n",
    "\n",
    "w = emblaze.Viewer(embeddings=variants)\n",
    "w\n"
   ]
  },
  {
   "cell_type": "code",
   "execution_count": null,
   "metadata": {},
   "outputs": [],
   "source": []
  }
 ],
 "metadata": {
  "kernelspec": {
   "display_name": "Python 3 (ipykernel)",
   "language": "python",
   "name": "python3"
  },
  "language_info": {
   "codemirror_mode": {
    "name": "ipython",
    "version": 3
   },
   "file_extension": ".py",
   "mimetype": "text/x-python",
   "name": "python",
   "nbconvert_exporter": "python",
   "pygments_lexer": "ipython3",
   "version": "3.11.1"
  }
 },
 "nbformat": 4,
 "nbformat_minor": 4
}
