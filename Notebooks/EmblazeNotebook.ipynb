{
 "cells": [
  {
   "cell_type": "markdown",
   "metadata": {},
   "source": [
    "# Emblaze\n",
    "\n",
    "Emblaze is a visualisation tool for embedding spaces. \n",
    "\n",
    "When using emblaze the following is needed:\n",
    "\n",
    "- X, which is our feature data (the model)\n",
    "- Y, which is label data\n",
    "\n",
    "emb = emblaze.Embedding({emblaze.Field.POSITION: X, emblaze.Field.COLOR: Y}, metric='cosine')\n",
    "\n"
   ]
  },
  {
   "cell_type": "code",
   "execution_count": 1,
   "metadata": {},
   "outputs": [],
   "source": [
    "import csv\n",
    "import emblaze\n",
    "from gensim.models import Word2Vec\n",
    "import numpy as np\n",
    "from gensim.models import Word2Vec\n",
    "import numpy as np\n",
    "import matplotlib.pyplot as plt\n",
    "import json\n",
    "from collections import defaultdict\n",
    "from sklearn.preprocessing import LabelEncoder\n",
    "import re\n",
    "import emblaze\n",
    "from emblaze.utils import Field, ProjectionTechnique"
   ]
  },
  {
   "cell_type": "code",
   "execution_count": 2,
   "metadata": {},
   "outputs": [],
   "source": [
    "# model_5000 = Word2Vec.load(\"../Data/Models/word2vec_epoch_5000.model\")\n",
    "#model_200 = Word2Vec.load(\"../Data/Models/word2vec_epoch_200_min_1.model\")\n",
    "# model_1000 = Word2Vec.load(\"../Data/Models/word2vec_epoch_1000_min_1.model\")\n",
    "#model_3000 = Word2Vec.load(\"../Data/Models/word2vec_epoch_3000_min_1.model\")\n",
    "model = Word2Vec.load(\"../Data/Models/best_model.model\")\n"
   ]
  },
  {
   "cell_type": "code",
   "execution_count": 3,
   "metadata": {},
   "outputs": [
    {
     "ename": "FileNotFoundError",
     "evalue": "[Errno 2] No such file or directory: '../Data/sequences.csv'",
     "output_type": "error",
     "traceback": [
      "\u001b[0;31m---------------------------------------------------------------------------\u001b[0m",
      "\u001b[0;31mFileNotFoundError\u001b[0m                         Traceback (most recent call last)",
      "Cell \u001b[0;32mIn[3], line 1\u001b[0m\n\u001b[0;32m----> 1\u001b[0m \u001b[38;5;28;01mwith\u001b[39;00m \u001b[38;5;28;43mopen\u001b[39;49m\u001b[43m(\u001b[49m\u001b[38;5;124;43m'\u001b[39;49m\u001b[38;5;124;43m../Data/sequences.csv\u001b[39;49m\u001b[38;5;124;43m'\u001b[39;49m\u001b[43m,\u001b[49m\u001b[43m \u001b[49m\u001b[38;5;124;43m'\u001b[39;49m\u001b[38;5;124;43mr\u001b[39;49m\u001b[38;5;124;43m'\u001b[39;49m\u001b[43m)\u001b[49m \u001b[38;5;28;01mas\u001b[39;00m f:\n\u001b[1;32m      2\u001b[0m     reader \u001b[38;5;241m=\u001b[39m csv\u001b[38;5;241m.\u001b[39mreader(f)\n\u001b[1;32m      3\u001b[0m     sequences \u001b[38;5;241m=\u001b[39m \u001b[38;5;28mlist\u001b[39m(reader)\n",
      "File \u001b[0;32m~/Desktop/ITU/6th/git/BachelorProject/.venv/lib/python3.11/site-packages/IPython/core/interactiveshell.py:324\u001b[0m, in \u001b[0;36m_modified_open\u001b[0;34m(file, *args, **kwargs)\u001b[0m\n\u001b[1;32m    317\u001b[0m \u001b[38;5;28;01mif\u001b[39;00m file \u001b[38;5;129;01min\u001b[39;00m {\u001b[38;5;241m0\u001b[39m, \u001b[38;5;241m1\u001b[39m, \u001b[38;5;241m2\u001b[39m}:\n\u001b[1;32m    318\u001b[0m     \u001b[38;5;28;01mraise\u001b[39;00m \u001b[38;5;167;01mValueError\u001b[39;00m(\n\u001b[1;32m    319\u001b[0m         \u001b[38;5;124mf\u001b[39m\u001b[38;5;124m\"\u001b[39m\u001b[38;5;124mIPython won\u001b[39m\u001b[38;5;124m'\u001b[39m\u001b[38;5;124mt let you open fd=\u001b[39m\u001b[38;5;132;01m{\u001b[39;00mfile\u001b[38;5;132;01m}\u001b[39;00m\u001b[38;5;124m by default \u001b[39m\u001b[38;5;124m\"\u001b[39m\n\u001b[1;32m    320\u001b[0m         \u001b[38;5;124m\"\u001b[39m\u001b[38;5;124mas it is likely to crash IPython. If you know what you are doing, \u001b[39m\u001b[38;5;124m\"\u001b[39m\n\u001b[1;32m    321\u001b[0m         \u001b[38;5;124m\"\u001b[39m\u001b[38;5;124myou can use builtins\u001b[39m\u001b[38;5;124m'\u001b[39m\u001b[38;5;124m open.\u001b[39m\u001b[38;5;124m\"\u001b[39m\n\u001b[1;32m    322\u001b[0m     )\n\u001b[0;32m--> 324\u001b[0m \u001b[38;5;28;01mreturn\u001b[39;00m \u001b[43mio_open\u001b[49m\u001b[43m(\u001b[49m\u001b[43mfile\u001b[49m\u001b[43m,\u001b[49m\u001b[43m \u001b[49m\u001b[38;5;241;43m*\u001b[39;49m\u001b[43margs\u001b[49m\u001b[43m,\u001b[49m\u001b[43m \u001b[49m\u001b[38;5;241;43m*\u001b[39;49m\u001b[38;5;241;43m*\u001b[39;49m\u001b[43mkwargs\u001b[49m\u001b[43m)\u001b[49m\n",
      "\u001b[0;31mFileNotFoundError\u001b[0m: [Errno 2] No such file or directory: '../Data/sequences.csv'"
     ]
    }
   ],
   "source": [
    "\n",
    "with open('../Data/sequences.csv', 'r') as f:\n",
    "    reader = csv.reader(f)\n",
    "    sequences = list(reader)\n",
    "    \n",
    "address_count_seq = {}\n",
    "for seq in sequences:\n",
    "    for place in seq:\n",
    "        if place in address_count_seq:\n",
    "            address_count_seq[place] += 1\n",
    "        else:\n",
    "            address_count_seq[place] = 1\n",
    "\n",
    "address_count_seq\n",
    "\n",
    "def label_function_address_count(labels, station_names): \n",
    "    for station_name in station_names:\n",
    "            # Check if the station_name exists in address_coordinates dictionary\n",
    "            if station_name in address_count_seq:\n",
    "                labels.append(address_count_seq[station_name])\n",
    "                #if address_count_seq[station_name] == 1:\n",
    "                    #labels.append(address_count_seq[station_name])\n",
    "                #else: \n",
    "                 #labels.append(\"\")\n",
    "            #     labels.append(address_count_seq[station_name])\n",
    "            else: \n",
    "                 labels.append(\"\")\n",
    "    return labels\n",
    "\n",
    "labels = label_function_address_count([], model.wv.index_to_key)\n",
    "# Convert labels to numerical format\n",
    "label_encoder = LabelEncoder()\n",
    "label_encoder.fit(labels)\n",
    "numeric_labels = label_encoder.transform(labels)\n",
    "\n",
    "# X is an n x k array, Y is a length-n array\n",
    "X, Y = model.wv.vectors, labels\n",
    "\n",
    "# Represent the high-dimensional embedding\n",
    "emb = emblaze.Embedding({Field.POSITION: X, Field.COLOR: Y})\n",
    "# Compute nearest neighbors in the high-D space (for display)\n",
    "emb.compute_neighbors(metric='cosine')\n",
    "\n",
    "# Generate UMAP 2D representations - you can pass UMAP parameters to project()\n",
    "variants = emblaze.EmbeddingSet([\n",
    "    emb.project(method=ProjectionTechnique.UMAP) for _ in range(10)\n",
    "])\n",
    "# Compute neighbors again (to indicate that we want to compare projections)\n",
    "variants.compute_neighbors(metric='euclidean')\n",
    "\n",
    "w = emblaze.Viewer(embeddings=variants)\n",
    "w"
   ]
  },
  {
   "cell_type": "code",
   "execution_count": 3,
   "metadata": {},
   "outputs": [],
   "source": [
    "f = open('../Data/data.json')\n",
    "data = json.load(f)\n",
    "\n",
    "a = open('../Data/added_data.json')\n",
    "added_data = json.load(a)\n",
    "\n",
    "file = open(\"../sequences.csv\", \"r\")\n",
    "sequences = list(csv.reader(file, delimiter=\",\"))\n",
    "file.close()\n"
   ]
  },
  {
   "cell_type": "code",
   "execution_count": 6,
   "metadata": {},
   "outputs": [],
   "source": [
    "#retrieve zipcode\n",
    "def getZip(info):\n",
    "    pattern_zip = '\\d{4}'\n",
    "    pattern_denmark = 'anmark'\n",
    "    match_zip = re.search(pattern_zip, info)\n",
    "    match_denmark = re.search(pattern_denmark, info)\n",
    "    if match_zip is not None and match_denmark is not None:\n",
    "        return match_zip.group()\n",
    "    else :\n",
    "        return\n",
    "\n",
    "# # Extract zip codes and corresponding coordinates\n",
    "#zip_coordinates = defaultdict(list)\n",
    "address_coordinates = {}\n",
    "wrong_addresses = []\n",
    "# we have some json objects where the address exists but the info is null. This happens in 1602 cases (assume this is where the geolocator failed)\n",
    "for address, info in data.items():\n",
    "    if info is not None: \n",
    "        zip_code = getZip(info['address'])  # Extract zip code from address could be empty\n",
    "        if zip_code is not None:\n",
    "            if 1000 <= int(zip_code): #for now removing all failed zipcodes in Jylland\n",
    "                if int(zip_code) <= 1549:\n",
    "                    #Kbh K\n",
    "                    address_coordinates[address] = 'Kbh K'\n",
    "                elif int(zip_code) <= 1799:\n",
    "                    #Kbh V\n",
    "                    address_coordinates[address] = 'Vesterbro'\n",
    "                elif int(zip_code) <= 2000:\n",
    "                    #Frederiksberg C\n",
    "                    address_coordinates[address] = 'Frederiksberg'\n",
    "                elif int(zip_code) == 2400:\n",
    "                    address_coordinates[address] = 'Kbh NV'\n",
    "                elif int(zip_code) == 2300:\n",
    "                    address_coordinates[address] = 'Kbh S'\n",
    "                elif int(zip_code) == 2200:\n",
    "                    address_coordinates[address] = 'Nørreport'\n",
    "                elif int(zip_code) == 2100:\n",
    "                    address_coordinates[address] = 'Østerbro'\n",
    "                else:\n",
    "                    address_coordinates[address] = 'Other'\n",
    "            else: \n",
    "                wrong_addresses.append(address) #go through later\n",
    "        else:\n",
    "            address_coordinates[address] = 'Other' #no zipcode was found\n",
    "    else:\n",
    "        address_coordinates[address] = 'Other' #no info was found on the address?\n",
    "\n",
    "#run through the list of wrong addresses and try to find them in the added_data.json file to get the \"correct\" zipcode\n",
    "for address in wrong_addresses:\n",
    "    #find in json file\n",
    "    if address in added_data:\n",
    "        zip_code = getZip(added_data[address]['address'])\n",
    "        if zip_code is None: continue\n",
    "        if int(zip_code) < 1000:\n",
    "            continue\n",
    "        if 1000 <= int(zip_code) < 4999: #for now removing all failed zipcodes in Jylland\n",
    "            if int(zip_code) <= 1549:\n",
    "                #Kbh K\n",
    "                address_coordinates[address] = 'Kbh K'\n",
    "            elif int(zip_code) <= 1799:\n",
    "                #Kbh V\n",
    "                address_coordinates[address] = 'Vesterbro'\n",
    "            elif int(zip_code) <= 2000:\n",
    "                #Frederiksberg C\n",
    "                address_coordinates[address] = 'Frederiksberg'\n",
    "            elif int(zip_code) == 2400:\n",
    "                address_coordinates[address] = 'Kbh NV'\n",
    "            elif int(zip_code) == 2300:\n",
    "                address_coordinates[address] = 'Kbh S'\n",
    "            elif int(zip_code) == 2200:\n",
    "                address_coordinates[address] = 'Nørreport'\n",
    "            elif int(zip_code) == 2100:\n",
    "                address_coordinates[address] = 'Østerbro'\n",
    "            else:\n",
    "                address_coordinates[address] = 'Other'\n",
    "\n",
    "def label_function_zipcodes(labels, station_names): \n",
    "    for station_name in station_names:\n",
    "    # Check if the station_name exists in address_coordinates dictionary\n",
    "        if station_name in address_coordinates:\n",
    "            zip = address_coordinates[station_name]\n",
    "            if zip is not None:\n",
    "                labels.append(zip)\n",
    "            else: \n",
    "                labels.append(\"unknown\")\n",
    "        else:\n",
    "            labels.append(\"unknown\")\n",
    "    return labels\n",
    "\n",
    "labels = label_function_zipcodes([], model.wv.index_to_key)\n",
    "# Convert labels to numerical format\n",
    "label_encoder = LabelEncoder()\n",
    "label_encoder.fit(labels)\n",
    "numeric_labels = label_encoder.transform(labels)"
   ]
  },
  {
   "cell_type": "code",
   "execution_count": 9,
   "metadata": {},
   "outputs": [
    {
     "name": "stdout",
     "output_type": "stream",
     "text": [
      "WARNING: Reducing the number of nearest neighbors passed to the widget to 75 to save space. You can control this by setting the storedNumNeighbors property of the widget when initializing.\n"
     ]
    },
    {
     "data": {
      "application/vnd.jupyter.widget-view+json": {
       "model_id": "e7fc4089ce144a2f8c7deba617a37b70",
       "version_major": 2,
       "version_minor": 0
      },
      "text/plain": [
       "Viewer(colorScheme='tableau', data={'data': [{'_format': 'compressed', '_idtype': 'u2', '_length': 14820, 'ids…"
      ]
     },
     "execution_count": 9,
     "metadata": {},
     "output_type": "execute_result"
    }
   ],
   "source": [
    "\n",
    "\n",
    "# X is an n x k array, Y is a length-n array\n",
    "X, Y = model.wv.vectors, labels\n",
    "\n",
    "# Represent the high-dimensional embedding\n",
    "emb = emblaze.Embedding({Field.POSITION: X, Field.COLOR: Y})\n",
    "# Compute nearest neighbors in the high-D space (for display)\n",
    "emb.compute_neighbors(metric='cosine')\n",
    "\n",
    "# Generate UMAP 2D representations - you can pass UMAP parameters to project()\n",
    "variants = emblaze.EmbeddingSet([\n",
    "    emb.project(method=ProjectionTechnique.TSNE) for _ in range(10)\n",
    "])\n",
    "# Compute neighbors again (to indicate that we want to compare projections)\n",
    "variants.compute_neighbors(metric='euclidean')\n",
    "\n",
    "thumbnails = emblaze.TextThumbnails(model.wv.index_to_key)\n",
    "\n",
    "w = emblaze.Viewer(embeddings=variants, thumbnails=thumbnails)\n",
    "w\n"
   ]
  },
  {
   "cell_type": "code",
   "execution_count": 8,
   "metadata": {},
   "outputs": [
    {
     "name": "stdout",
     "output_type": "stream",
     "text": [
      "next!\n"
     ]
    }
   ],
   "source": [
    "print('next!')"
   ]
  },
  {
   "cell_type": "code",
   "execution_count": null,
   "metadata": {},
   "outputs": [],
   "source": []
  }
 ],
 "metadata": {
  "kernelspec": {
   "display_name": "Python 3 (ipykernel)",
   "language": "python",
   "name": "python3"
  },
  "language_info": {
   "codemirror_mode": {
    "name": "ipython",
    "version": 3
   },
   "file_extension": ".py",
   "mimetype": "text/x-python",
   "name": "python",
   "nbconvert_exporter": "python",
   "pygments_lexer": "ipython3",
   "version": "3.11.0"
  }
 },
 "nbformat": 4,
 "nbformat_minor": 4
}
