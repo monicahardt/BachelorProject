{
 "cells": [
  {
   "cell_type": "markdown",
   "metadata": {},
   "source": [
    "# Exploration of Database flow of data\n",
    "\n",
    "Here we wish to explore the way our data flows through the database. We are interested in figuring out where all the journeys from the *Journeys* table are lost when trying to connect to the table *SJWaypoints*. The SQL query we wish to analysise is the following: \n",
    "\n",
    "```SQL\n",
    "SELECT J.Id as JId, J.CreatedOn, J.SearchStart, J.SearchEnd, J.StartStop, J.EndStop,\n",
    "    J.StartZone, J.Endzone, J.internalStartZones, J.internalValidZones, \n",
    "    SJWaypoints._id as SJId, SJWaypoints.Id,  SJWaypoints.Name, SJWaypoints.Latitude, \n",
    "    SJWaypoints.Longitude, SJWaypoints.[Type], SJWaypoints.SJSearchJourney_Id\n",
    "FROM Journeys J\n",
    "    JOIN Tickets ON J.Id = Tickets.Journey_Id\n",
    "    JOIN Orders ON Orders.Id = Tickets.OrderId\n",
    "    JOIN SJSearchJourneys SJ ON SJ.Id = Orders.JourneyClasses_Id\n",
    "    JOIN SJWaypoints ON SJWaypoints.SJSearchJourney_Id = SJ.Id\n",
    "WHERE J.CreatedOn BETWEEN '2022-12-01 00:00:00' and '2023-01-01 00:00:00'\n",
    "```\n",
    "\n",
    "We will be splitting up the query into parts exploring the amount of data and the relationship between the two joined tables.\n",
    "\n",
    "From our starting points, we run the query:\n",
    "```SQL\n",
    "SELECT COUNT(*)\n",
    "FROM Journeys\n",
    "WHERE Journeys.CreatedOn BETWEEN '2022/12/01 00:00:00' and '2023/01/01 00:00:00'\n",
    "```\n",
    "\n",
    "and see that the month has 941,093 registered journeys. How does that number change throughout our joinings?\n"
   ]
  },
  {
   "cell_type": "markdown",
   "metadata": {},
   "source": [
    "## Journeys and Tickets\n",
    "\n",
    "*Journeys* is our starting point for our data since this table consist of actually traveled (bought) journeys. From our ER-Diagram, we notice that the *Journeys* and *Tickets* tables have a 1 - 1 relationship through *Journeys*'s primary key **Id** and *Tickets*'s foreign key **Journey_Id**.\n",
    "\n",
    "What we expect to see from this join, is the amount of results to be the same.  \n",
    "\n",
    "The SQL Query in use is the following:\n",
    "``` SQL\n",
    "SELECT COUNT(*)\n",
    "FROM Journeys\n",
    "    JOIN Tickets ON Journeys.Id = Tickets.Journey_Id\n",
    "WHERE Journeys.CreatedOn BETWEEN '2022/12/01 00:00:00' and '2023/01/01 00:00:00'\n",
    "```\n",
    "\n",
    "\n",
    "The *Ticket* table does not necessarily contain explict relevant information for our purpose. If so, the column **Type** might be an indicator for whether a journey is from a standard ticket or a 'pendler-kort', which we are not interested in keeping in our training data. \n"
   ]
  },
  {
   "cell_type": "markdown",
   "metadata": {},
   "source": [
    "## Tickets and Orders\n",
    "\n",
    "Here we wish to look at the relationship between *Tickets* and *Orders*. We expect each ticket to match with an entry in orders. We expect this relationship to be 1 to many, such that the expected count(*) is **LESS** than the 'original' 941,093 results. \n",
    "\n",
    "```SQL\n",
    "SELECT COUNT(*)\n",
    "FROM Tickets\n",
    "    JOIN Orders ON Tickets.OrderId = Orders.Id\n",
    "WHERE Tickets.CreatedOn BETWEEN '2022/12/01 00:00:00' and '2023/01/01 00:00:00'\n",
    "```\n",
    "\n",
    "We also run the following:\n",
    "```SQL\n",
    "SELECT COUNT(*)\n",
    "FROM Tickets\n",
    "WHERE Tickets.CreatedOn BETWEEN '2022/12/01 00:00:00' and '2023/01/01 00:00:00'\n",
    "```\n"
   ]
  },
  {
   "cell_type": "markdown",
   "metadata": {},
   "source": [
    "## Orders and SJSearchJourneys\n",
    "\n",
    "We expect to see a large drop in number in this join, since an entry in *Orders* can either have an associate value in **JourneyClasses_Id**, **RejseplanenProduct_Id** or None of them. To analyse *Orders* further, a few additional queries were performed. But the 'join' were done using the following query:\n",
    "```SQL\n",
    "SELECT COUNT(*)\n",
    "FROM Orders\n",
    "    JOIN SJSearchJourneys ON Orders.JourneyClasses_Id = SJSearchJourney.Id\n",
    "WHERE Orders.CreatedOn BETWEEN '2022/12/01 00:00:00' and '2023/01/01 00:00:00'\n",
    "```\n",
    "\n",
    "We also make use of the Query:\n",
    "```SQL\n",
    "SELECT COUNT(*)\n",
    "FROM Orders\n",
    "WHERE Orders.CreatedOn BETWEEN '2022/12/01 00:00:00' and '2023/01/01 00:00:00'\n",
    "```\n"
   ]
  },
  {
   "cell_type": "markdown",
   "metadata": {},
   "source": [
    "## SJSearchJourneys and SJWaypoints\n",
    "\n",
    "A *SearchJourney* have a one-to-many relationship with *Waypoints* \n",
    "\n",
    "```SQL\n",
    "SELECT COUNT(*)\n",
    "FROM SJSearchJourneys\n",
    "    JOIN SJWaypoints ON SJSearchJourneys.Id = SJWaypoints.SJSearchJourney_Id\n",
    "WHERE SJSearchJourneys.CreatedOn BETWEEN '2022/12/01 00:00:00' and '2023/01/01 00:00:00'\n",
    "```\n",
    "\n",
    "```SQL\n",
    "SELECT COUNT(*)\n",
    "FROM SJSearchJourneys\n",
    "WHERE SJSearchJourneys.CreatedOn BETWEEN '2022/12/01 00:00:00' and '2023/01/01 00:00:00'\n",
    "```"
   ]
  },
  {
   "cell_type": "markdown",
   "metadata": {},
   "source": []
  },
  {
   "cell_type": "markdown",
   "metadata": {},
   "source": [
    "# Deep dive into a Extract from Journeys x Tickets where the journeys are from tickets baught a joint travel\n",
    "\n",
    "The SQL command run:\n",
    "\n",
    "```SQL\n",
    "SELECT * \n",
    "FROM Tickets \n",
    "JOIN Journeys ON Tickets.Journey_Id = Journeys.Id\n",
    "WHERE OrderId = 'ed70bcb8-bc89-4983-a068-0049dd5c249d'\n",
    "```\n",
    "\n",
    "The OrderId were found by running \n",
    "\n",
    "```SQL\n",
    "SELECT OrderId, COUNT(*) AS OrderCount\n",
    "FROM Tickets\n",
    "GROUP BY OrderId\n",
    "HAVING COUNT(*) > 2;\n",
    "```\n",
    "\n",
    "The OrderId was then chosen by selecting a relatively high number of OrderCount (36). Thus the first SQL query returns a table with 36 distinct journeys (based on journey id). \n",
    "\n",
    "Please take a look at Appendix_1.md for the full csv file. \n",
    "\n",
    "The data is highlighted in order to showcase the limits of our data. \n",
    "For the extracted data we can see that (of the relevant columns):\n",
    "- The **Type** is set to *Zone*. This would be nice and awesome if the SJSearchJourneys actually contained detailed information on Journeys of type *Zone*, but this is not the case for all of these entries. \n",
    "- The **StartStop** and **EndStop** are for all journeys are left empty, not giving any information of the actual journey\n",
    "- The **SearchStart** contain a value of 'Min lokation (01)' and thus does not give any indication of a location. \n",
    "- The **SearchEnd** contain a value of '2 zoner' gives just as much information.\n",
    "- The **InternalValidZones** contain the value '1001,1002,1003' which tells us that the Ticket for the Journey is valid in these three zones. \n",
    "- The **InternalStartZone** likewise tells us that the journey possibly started in zone 1001. 'Possibly' since the column named **StartZone** is empty. \n",
    "\n",
    "Of course this is a, be it random, selected extracted table and thus further research have to be made in order to say whether the above observation is true for a magnitude of other 'joint' travels. But from the second query above, a (still counting) ~500.000 rows showcases the amount of joint travels, with most of them being around ~3-5 tickets but many with > 25 as well - probably institutes buying tickets for an entire classroom or similar. \n",
    "\n",
    "* Do note, that we also attempted to find these journeys in SJSearchJourneys but the order with the OrderId for the Tickets does not contain a value in JourneyClasses_Id thus indicating that there is no association between this journey and SJSearchJourneys. "
   ]
  },
  {
   "cell_type": "markdown",
   "metadata": {},
   "source": [
    "## Orders with no entry in SJ or RP"
   ]
  },
  {
   "cell_type": "markdown",
   "metadata": {},
   "source": [
    "Looking into how many journeys in one month that do not, when joined with tickets and orders, have a JourneyClasses_Id as well as no RejseplanenProductId. These are found with the following query: \n",
    "\n",
    "```SQL\n",
    "SELECT COUNT(*)\n",
    "FROM Orders\n",
    "WHERE Orders.JourneyClasses_Id is NULL and Orders.RejseplanenProduct_Id is NULL\n",
    "and Orders.CreatedOn BETWEEN '2022/12/01 00:00:00' and '2023/01/01 00:00:00'\n",
    "```"
   ]
  },
  {
   "cell_type": "markdown",
   "metadata": {},
   "source": [
    "The result is ***653373*** in one month. So we loose \"only\" 653373 journeys when joining on from Orders, so the majority of the lost journeys are not from here"
   ]
  },
  {
   "cell_type": "markdown",
   "metadata": {},
   "source": [
    "# The JOINS\n",
    "## HOW MANY JOURNEYS CAN WE ACTUALLY WORK WITH?\n"
   ]
  },
  {
   "cell_type": "markdown",
   "metadata": {},
   "source": [
    "If we are to only work with data from the Journeys table, then we need to have either both SearchStart and SearchEnd or both StartStop and EndStop where these \"pairs\" do not have the same value. The number of journeys we can work with is found with the following query: \n",
    "```SQL\n",
    "SELECT COUNT(*)\n",
    "FROM Journeys\n",
    "WHERE \n",
    "    (Journeys.SearchStart IS NOT NULL AND Journeys.SearchEnd IS NOT NULL AND Journeys.SearchStart <> Journeys.SearchEnd)\n",
    "    OR\n",
    "    (Journeys.StartStop IS NOT NULL AND Journeys.EndStop IS NOT NULL AND Journeys.StartStop <> Journeys.EndStop);\n",
    "```"
   ]
  },
  {
   "cell_type": "markdown",
   "metadata": {},
   "source": [
    "The result is that from the entire Journeys table which contains around 43 million journeys, we have ***23449428*** we can \"work\" with. "
   ]
  },
  {
   "cell_type": "markdown",
   "metadata": {},
   "source": [
    "``` SQL\n",
    "SELECT COUNT(*)\n",
    "FROM Journeys\n",
    "JOIN Tickets ON Journeys.Id = Tickets.Journey_Id\n",
    "WHERE Journeys.CreatedOn BETWEEN '2022/12/01 00:00:00' and '2023/01/01 00:00:00'\n",
    "```\n",
    "\n",
    "***870115***"
   ]
  },
  {
   "cell_type": "markdown",
   "metadata": {},
   "source": [
    "``` SQL\n",
    "SELECT COUNT(*)\n",
    "FROM Journeys\n",
    "JOIN Tickets ON Journeys.Id = Tickets.Journey_Id\n",
    "JOIN Orders ON Orders.Id = Tickets.OrderId\n",
    "WHERE Journeys.CreatedOn BETWEEN '2022/12/01 00:00:00' and '2023/01/01 00:00:00'\n",
    "```\n",
    "***870115***"
   ]
  },
  {
   "cell_type": "markdown",
   "metadata": {},
   "source": [
    "##### SJ"
   ]
  },
  {
   "cell_type": "markdown",
   "metadata": {},
   "source": [
    "``` SQL\n",
    "SELECT COUNT(*)\n",
    "FROM Journeys\n",
    "JOIN Tickets ON Journeys.Id = Tickets.Journey_Id\n",
    "JOIN Orders ON Orders.Id = Tickets.OrderId\n",
    "JOIN SJSearchJourneys ON Orders.JourneyClasses_Id = SJSearchJourneys.Id\n",
    "WHERE Journeys.CreatedOn BETWEEN '2022/12/01 00:00:00' and '2023/01/01 00:00:00'\n",
    "```\n",
    "***35948***"
   ]
  },
  {
   "cell_type": "markdown",
   "metadata": {},
   "source": [
    "``` SQL\n",
    "SELECT COUNT(*)\n",
    "FROM Journeys\n",
    "JOIN Tickets ON Journeys.Id = Tickets.Journey_Id\n",
    "JOIN Orders ON Orders.Id = Tickets.OrderId\n",
    "JOIN SJSearchJourneys ON Orders.JourneyClasses_Id = SJSearchJourneys.Id\n",
    "JOIN SJWaypoints ON SJSearchJourneys.Id =  SJWaypoints.SJSearchJourney_Id\n",
    "WHERE Journeys.CreatedOn BETWEEN '2022/12/01 00:00:00' and '2023/01/01 00:00:00'\n",
    "```\n",
    "***571087***"
   ]
  },
  {
   "cell_type": "markdown",
   "metadata": {},
   "source": [
    "##### RP"
   ]
  },
  {
   "cell_type": "markdown",
   "metadata": {},
   "source": [
    "``` SQL\n",
    "SELECT COUNT(*)\n",
    "FROM Journeys\n",
    "JOIN Tickets ON Journeys.Id = Tickets.Journey_Id\n",
    "JOIN Orders ON Orders.Id = Tickets.OrderId\n",
    "JOIN RejseplanenProducts ON Orders.RejseplanenProduct_Id = RejseplanenProducts.Id\n",
    "WHERE Journeys.CreatedOn BETWEEN '2022/12/01 00:00:00' and '2023/01/01 00:00:00'\n",
    "```\n",
    "***49350***"
   ]
  },
  {
   "cell_type": "markdown",
   "metadata": {},
   "source": [
    "``` SQL\n",
    "SELECT COUNT(*)\n",
    "FROM Journeys\n",
    "JOIN Tickets ON Journeys.Id = Tickets.Journey_Id\n",
    "JOIN Orders ON Orders.Id = Tickets.OrderId\n",
    "JOIN RejseplanenProducts ON Orders.RejseplanenProduct_Id = RejseplanenProducts.Id\n",
    "JOIN RPWaypoints ON RejseplanenProducts.Id = RPWaypoints.RejseplanenProduct_Id\n",
    "WHERE Journeys.CreatedOn BETWEEN '2022/12/01 00:00:00' and '2023/01/01 00:00:00'\n",
    "```\n",
    "***394597***"
   ]
  },
  {
   "cell_type": "markdown",
   "metadata": {},
   "source": []
  }
 ],
 "metadata": {
  "language_info": {
   "name": "python"
  }
 },
 "nbformat": 4,
 "nbformat_minor": 2
}
